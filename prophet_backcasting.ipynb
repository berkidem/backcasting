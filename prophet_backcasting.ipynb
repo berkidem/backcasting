{
 "cells": [
  {
   "cell_type": "markdown",
   "metadata": {},
   "source": [
    "# Backcasting with Prophet"
   ]
  },
  {
   "cell_type": "markdown",
   "metadata": {},
   "source": [
    "We can use Prophet to \"backcast\" the past, just like we can forecast the future. However, Prophet doesn't have a built-in function to create the past dates like it does for the future. (If you are making a forecast, you can simply use the \"make_future_dataframe\" function to generate the dates for prediction.) So in this notebook, I illustrate backcasting with Prophet using a minimal example."
   ]
  },
  {
   "cell_type": "code",
   "execution_count": null,
   "metadata": {},
   "outputs": [],
   "source": [
    "# We install the prophet library\n",
    "!pip install prophet"
   ]
  },
  {
   "cell_type": "code",
   "execution_count": null,
   "metadata": {},
   "outputs": [],
   "source": [
    "import pandas as pd\n",
    "from prophet import Prophet\n",
    "import numpy as np"
   ]
  },
  {
   "cell_type": "markdown",
   "metadata": {},
   "source": [
    "## Import Data"
   ]
  },
  {
   "cell_type": "code",
   "execution_count": null,
   "metadata": {},
   "outputs": [],
   "source": [
    "# get some dataset with time series\n",
    "df = pd.read_csv('https://raw.githubusercontent.com/facebook/prophet/master/examples/example_wp_log_peyton_manning.csv')\n",
    "\n",
    "# We inspect our dataframe to make sure it has the right format:\n",
    "# Prophet requires columns ds (Date) and y (value)\n",
    "df.head()"
   ]
  },
  {
   "cell_type": "markdown",
   "metadata": {},
   "source": [
    "## Model Fitting"
   ]
  },
  {
   "cell_type": "code",
   "execution_count": null,
   "metadata": {},
   "outputs": [],
   "source": [
    "# make a prophet model\n",
    "m = Prophet()\n",
    "m.fit(df)"
   ]
  },
  {
   "cell_type": "markdown",
   "metadata": {},
   "source": [
    "## Forecasting"
   ]
  },
  {
   "cell_type": "code",
   "execution_count": null,
   "metadata": {},
   "outputs": [],
   "source": [
    "# make a future dataframe\n",
    "future = m.make_future_dataframe(periods=365)\n",
    "future.tail()"
   ]
  },
  {
   "cell_type": "code",
   "execution_count": null,
   "metadata": {},
   "outputs": [],
   "source": [
    "# make a forecast\n",
    "forecast = m.predict(future)\n",
    "display(forecast[['ds', 'yhat', 'yhat_lower', 'yhat_upper']].tail())\n",
    "\n",
    "# plot the forecast\n",
    "fig1 = m.plot(forecast)\n",
    "\n",
    "# plot the forecast components\n",
    "fig2 = m.plot_components(forecast)\n"
   ]
  },
  {
   "cell_type": "markdown",
   "metadata": {},
   "source": [
    "## Backcasting"
   ]
  },
  {
   "cell_type": "code",
   "execution_count": null,
   "metadata": {},
   "outputs": [],
   "source": [
    "# We create historical data\n",
    "\n",
    "# generate the dates before 2008-01-01\n",
    "past = pd.date_range(start='2007-01-01', end='2007-12-31')\n",
    "\n",
    "# add the dates for which we have data\n",
    "past = np.append(past, pd.date_range(start='2008-01-01', end='2016-12-31'))\n",
    "\n",
    "# relabel the dates in the right format\n",
    "past = pd.DataFrame(past, columns=['ds'])\n",
    "past.head()"
   ]
  },
  {
   "cell_type": "code",
   "execution_count": null,
   "metadata": {},
   "outputs": [],
   "source": [
    "# make a backcast\n",
    "backcast = m.predict(past)\n",
    "\n",
    "# show the backcast including \"confidence intervals\" around the predictions\n",
    "display(backcast[['ds', 'yhat', 'yhat_lower', 'yhat_upper']].head())\n",
    "\n",
    "# plot the backcast\n",
    "fig3 = m.plot(backcast)\n"
   ]
  }
 ],
 "metadata": {
  "kernelspec": {
   "display_name": "Python 3.10.4 ('learning')",
   "language": "python",
   "name": "python3"
  },
  "language_info": {
   "codemirror_mode": {
    "name": "ipython",
    "version": 3
   },
   "file_extension": ".py",
   "mimetype": "text/x-python",
   "name": "python",
   "nbconvert_exporter": "python",
   "pygments_lexer": "ipython3",
   "version": "3.10.4"
  },
  "orig_nbformat": 4,
  "vscode": {
   "interpreter": {
    "hash": "eff704cc9d11327bd2e92cdd28ee8a3b28d0bc3dab104a8f6621ad3741a56d2f"
   }
  }
 },
 "nbformat": 4,
 "nbformat_minor": 2
}
